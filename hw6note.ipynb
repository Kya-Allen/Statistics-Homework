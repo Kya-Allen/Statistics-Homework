{
 "cells": [
  {
   "cell_type": "markdown",
   "metadata": {},
   "source": [
    "#Kya Allen - Stat 414 - HW 6 raw Analysis"
   ]
  },
  {
   "cell_type": "code",
   "execution_count": 2,
   "metadata": {},
   "outputs": [],
   "source": [
    "import pandas as pd\n",
    "import numpy as np\n",
    "import matplotlib.pyplot as plt\n",
    "import seaborn as sns\n",
    "import statsmodels.api as sm"
   ]
  },
  {
   "cell_type": "code",
   "execution_count": 4,
   "metadata": {},
   "outputs": [],
   "source": [
    "df1 = pd.read_csv('HW6data2.csv')\n",
    "df2 = pd.read_csv('HW6data1.csv')"
   ]
  },
  {
   "cell_type": "markdown",
   "metadata": {},
   "source": [
    "#Testing the Large Dataset for Exponentiality"
   ]
  },
  {
   "cell_type": "code",
   "execution_count": 5,
   "metadata": {},
   "outputs": [
    {
     "data": {
      "text/html": [
       "<div>\n",
       "<style scoped>\n",
       "    .dataframe tbody tr th:only-of-type {\n",
       "        vertical-align: middle;\n",
       "    }\n",
       "\n",
       "    .dataframe tbody tr th {\n",
       "        vertical-align: top;\n",
       "    }\n",
       "\n",
       "    .dataframe thead th {\n",
       "        text-align: right;\n",
       "    }\n",
       "</style>\n",
       "<table border=\"1\" class=\"dataframe\">\n",
       "  <thead>\n",
       "    <tr style=\"text-align: right;\">\n",
       "      <th></th>\n",
       "      <th>x</th>\n",
       "    </tr>\n",
       "  </thead>\n",
       "  <tbody>\n",
       "    <tr>\n",
       "      <th>count</th>\n",
       "      <td>50.000000</td>\n",
       "    </tr>\n",
       "    <tr>\n",
       "      <th>mean</th>\n",
       "      <td>3.381018</td>\n",
       "    </tr>\n",
       "    <tr>\n",
       "      <th>std</th>\n",
       "      <td>3.502513</td>\n",
       "    </tr>\n",
       "    <tr>\n",
       "      <th>min</th>\n",
       "      <td>0.009818</td>\n",
       "    </tr>\n",
       "    <tr>\n",
       "      <th>25%</th>\n",
       "      <td>0.967100</td>\n",
       "    </tr>\n",
       "    <tr>\n",
       "      <th>50%</th>\n",
       "      <td>2.202139</td>\n",
       "    </tr>\n",
       "    <tr>\n",
       "      <th>75%</th>\n",
       "      <td>5.101106</td>\n",
       "    </tr>\n",
       "    <tr>\n",
       "      <th>max</th>\n",
       "      <td>17.502511</td>\n",
       "    </tr>\n",
       "  </tbody>\n",
       "</table>\n",
       "</div>"
      ],
      "text/plain": [
       "               x\n",
       "count  50.000000\n",
       "mean    3.381018\n",
       "std     3.502513\n",
       "min     0.009818\n",
       "25%     0.967100\n",
       "50%     2.202139\n",
       "75%     5.101106\n",
       "max    17.502511"
      ]
     },
     "execution_count": 5,
     "metadata": {},
     "output_type": "execute_result"
    }
   ],
   "source": [
    "df1.describe()"
   ]
  },
  {
   "cell_type": "code",
   "execution_count": 6,
   "metadata": {},
   "outputs": [
    {
     "data": {
      "text/plain": [
       "<matplotlib.axes._subplots.AxesSubplot at 0x22163c1e460>"
      ]
     },
     "execution_count": 6,
     "metadata": {},
     "output_type": "execute_result"
    },
    {
     "data": {
      "image/png": "[encoded data removed]",
      "text/plain": [
       "<Figure size 432x288 with 1 Axes>"
      ]
     },
     "metadata": {
      "needs_background": "light"
     },
     "output_type": "display_data"
    }
   ],
   "source": [
    "#A historgram of the data\n",
    "sns.histplot(df1, bins=18)"
   ]
  },
  {
   "cell_type": "code",
   "execution_count": 3,
   "metadata": {},
   "outputs": [
    {
     "data": {
      "image/png": "[encoded data removed]",
      "text/plain": [
       "<Figure size 360x360 with 1 Axes>"
      ]
     },
     "metadata": {
      "needs_background": "light"
     },
     "output_type": "display_data"
    }
   ],
   "source": [
    "sns.displot(np.random.exponential(size=50, scale=3.381018), kind='hist')\n",
    "## a sample randomly generated from an exponential distribution with the correct parameters\n",
    "## to get an intuitive idea of whether our data is similar to what we'd expect\n",
    "plt.show()"
   ]
  },
  {
   "cell_type": "code",
   "execution_count": 7,
   "metadata": {},
   "outputs": [
    {
     "data": {
      "text/plain": [
       "array([15,  8,  6,  5,  3,  4,  4,  2,  0,  0,  0,  1,  1,  0,  0,  0,  0,\n",
       "        1])"
      ]
     },
     "execution_count": 7,
     "metadata": {},
     "output_type": "execute_result"
    }
   ],
   "source": [
    "obsCounts = []\n",
    "##create a vector of observered counts\n",
    "for i in range (0,18):\n",
    "    tempCount = 0\n",
    "    for j in df1.x:\n",
    "        if j >= i and j < i + 1:\n",
    "            tempCount = tempCount + 1\n",
    "    obsCounts.append(tempCount)\n",
    "\n",
    "countsObs = np.array(obsCounts)\n",
    "countsObs"
   ]
  },
  {
   "cell_type": "code",
   "execution_count": 42,
   "metadata": {},
   "outputs": [
    {
     "data": {
      "text/plain": [
       "array([3.78644344, 2.81695993, 2.09570363, 1.55911827, 1.15992059,\n",
       "       0.86293374, 0.64198761, 0.47761267, 0.35532441, 0.26434691,\n",
       "       0.19666335, 0.14630953, 0.10884834, 0.08097874, 0.06024489,\n",
       "       0.04481975, 0.03334407, 0.02480663])"
      ]
     },
     "execution_count": 42,
     "metadata": {},
     "output_type": "execute_result"
    }
   ],
   "source": [
    "expCounts =  []\n",
    "##create a vector of expected values from the theoretic exponential distribution (Later discarding this method)\n",
    "for i in range (0,18):\n",
    "    part1 = (50 / 3.381018) * np.exp(-(i / 3.381018))\n",
    "    part2 = (50 / 3.381018) * np.exp(-((i + 1) / 3.381018))\n",
    "    tempCount = part1 - part2\n",
    "    expCounts.append(tempCount)\n",
    "\n",
    "countsExp = np.array(expCounts)\n",
    "countsExp"
   ]
  },
  {
   "cell_type": "markdown",
   "metadata": {},
   "source": [
    "## This method, using the equation presented in class seemed to give unintuitive results, and I couldn't figure out why"
   ]
  },
  {
   "cell_type": "code",
   "execution_count": 9,
   "metadata": {},
   "outputs": [
    {
     "data": {
      "text/plain": [
       "array([3.32089606e+01, 9.53648793e+00, 7.27370511e+00, 7.59382231e+00,\n",
       "       2.91907247e+00, 1.14043341e+01, 1.75645869e+01, 4.85259981e+00,\n",
       "       3.55324406e-01, 2.64346907e-01, 1.96663348e-01, 4.98113415e+00,\n",
       "       7.29594276e+00, 8.09787402e-02, 6.02448894e-02, 4.48197477e-02,\n",
       "       3.33440695e-02, 3.83366077e+01])"
      ]
     },
     "execution_count": 9,
     "metadata": {},
     "output_type": "execute_result"
    }
   ],
   "source": [
    "X2vector = ((countsObs - countsExp) ** 2) / countsExp\n",
    "X2vector"
   ]
  },
  {
   "cell_type": "code",
   "execution_count": 10,
   "metadata": {},
   "outputs": [
    {
     "data": {
      "text/plain": [
       "146.00297587207444"
      ]
     },
     "execution_count": 10,
     "metadata": {},
     "output_type": "execute_result"
    }
   ],
   "source": [
    "ChiSquare = np.sum(X2vector)\n",
    "ChiSquare"
   ]
  },
  {
   "cell_type": "markdown",
   "metadata": {},
   "source": [
    "## here the chi-square test gave unintuitive results as well\n",
    "## to compensate, I used a Ti-84 to calculate the integral for each interval under the exponential curve\n",
    "## with the correct parameters"
   ]
  },
  {
   "cell_type": "code",
   "execution_count": 58,
   "metadata": {},
   "outputs": [
    {
     "data": {
      "text/plain": [
       "18.163991204403935"
      ]
     },
     "execution_count": 58,
     "metadata": {},
     "output_type": "execute_result"
    }
   ],
   "source": [
    "countsExp_2 = np.array([12.802092, 9.5242208, 7.0856218, 5.2714061, 3.9217056, \n",
    "                       2.9175839, 2.1705611, 1.6148066, 1.2013486, 0.89375308, \n",
    "                       0.66491489, 0.49466886, 0.36801294, 0.27378623, \n",
    "                       0.2036855, 0.15153349, 0.11273457, 0.08386981])\n",
    "X2vector_2part1 = np.array((np.square(countsObs - countsExp_2)))\n",
    "X2vector_2 = X2vector_2part1 / countsExp_2\n",
    "ChiSquare_2 = np.sum(X2vector_2)\n",
    "ChiSquare_2"
   ]
  },
  {
   "cell_type": "markdown",
   "metadata": {},
   "source": [
    "## df = (k-2) = (18-2) = (16); Rejection region is X2 > 26.296 for a 5% alpha level"
   ]
  },
  {
   "cell_type": "markdown",
   "metadata": {},
   "source": [
    "# Testing the small dataset for Exponentiality"
   ]
  },
  {
   "cell_type": "code",
   "execution_count": 11,
   "metadata": {},
   "outputs": [
    {
     "data": {
      "text/html": [
       "<div>\n",
       "<style scoped>\n",
       "    .dataframe tbody tr th:only-of-type {\n",
       "        vertical-align: middle;\n",
       "    }\n",
       "\n",
       "    .dataframe tbody tr th {\n",
       "        vertical-align: top;\n",
       "    }\n",
       "\n",
       "    .dataframe thead th {\n",
       "        text-align: right;\n",
       "    }\n",
       "</style>\n",
       "<table border=\"1\" class=\"dataframe\">\n",
       "  <thead>\n",
       "    <tr style=\"text-align: right;\">\n",
       "      <th></th>\n",
       "      <th>x</th>\n",
       "    </tr>\n",
       "  </thead>\n",
       "  <tbody>\n",
       "    <tr>\n",
       "      <th>count</th>\n",
       "      <td>15.000000</td>\n",
       "    </tr>\n",
       "    <tr>\n",
       "      <th>mean</th>\n",
       "      <td>2.710228</td>\n",
       "    </tr>\n",
       "    <tr>\n",
       "      <th>std</th>\n",
       "      <td>1.461153</td>\n",
       "    </tr>\n",
       "    <tr>\n",
       "      <th>min</th>\n",
       "      <td>0.459298</td>\n",
       "    </tr>\n",
       "    <tr>\n",
       "      <th>25%</th>\n",
       "      <td>1.541557</td>\n",
       "    </tr>\n",
       "    <tr>\n",
       "      <th>50%</th>\n",
       "      <td>2.743928</td>\n",
       "    </tr>\n",
       "    <tr>\n",
       "      <th>75%</th>\n",
       "      <td>3.790357</td>\n",
       "    </tr>\n",
       "    <tr>\n",
       "      <th>max</th>\n",
       "      <td>5.012110</td>\n",
       "    </tr>\n",
       "  </tbody>\n",
       "</table>\n",
       "</div>"
      ],
      "text/plain": [
       "               x\n",
       "count  15.000000\n",
       "mean    2.710228\n",
       "std     1.461153\n",
       "min     0.459298\n",
       "25%     1.541557\n",
       "50%     2.743928\n",
       "75%     3.790357\n",
       "max     5.012110"
      ]
     },
     "execution_count": 11,
     "metadata": {},
     "output_type": "execute_result"
    }
   ],
   "source": [
    "df2.describe()"
   ]
  },
  {
   "cell_type": "code",
   "execution_count": 59,
   "metadata": {},
   "outputs": [],
   "source": [
    "## quantile of observed values, ordered\n",
    "X_order = np.sort(np.array(df2.x))\n",
    "## Exponential Quantile calculated manually\n",
    "ExpTheoretic = np.array([0.5549513606, 0.7763362504, 1.017079909, 1.280837487, 1.572392272,\n",
    "                         1.898167102, 2.267059188, 2.691876606, 3.191978123, 3.798552866,\n",
    "                         4.566450678, 5.605371249, 7.186337334, 10.34826951, 11.70338329])\n",
    "\n",
    "#creating an array-like of the observed ordered values vs the theoretic\n",
    "dfReg = pd.DataFrame(columns=['predictor , response'])\n",
    "dfReg['predictor'] = ExpTheoretic\n",
    "dfReg['response'] = X_order"
   ]
  },
  {
   "cell_type": "markdown",
   "metadata": {},
   "source": [
    "## Using the Ordinary Least Squares function from the Statsmodels Statistical Package"
   ]
  },
  {
   "cell_type": "code",
   "execution_count": 26,
   "metadata": {},
   "outputs": [
    {
     "name": "stdout",
     "output_type": "stream",
     "text": [
      "                                 OLS Regression Results                                \n",
      "=======================================================================================\n",
      "Dep. Variable:                      y   R-squared (uncentered):                   0.897\n",
      "Model:                            OLS   Adj. R-squared (uncentered):              0.890\n",
      "Method:                 Least Squares   F-statistic:                              122.2\n",
      "Date:                Sun, 04 Apr 2021   Prob (F-statistic):                    2.66e-08\n",
      "Time:                        05:14:12   Log-Likelihood:                         -20.977\n",
      "No. Observations:                  15   AIC:                                      43.95\n",
      "Df Residuals:                      14   BIC:                                      44.66\n",
      "Df Model:                           1                                                  \n",
      "Covariance Type:            nonrobust                                                  \n",
      "==============================================================================\n",
      "                 coef    std err          t      P>|t|      [0.025      0.975]\n",
      "------------------------------------------------------------------------------\n",
      "x1             0.5643      0.051     11.054      0.000       0.455       0.674\n",
      "==============================================================================\n",
      "Omnibus:                        8.448   Durbin-Watson:                   0.206\n",
      "Prob(Omnibus):                  0.015   Jarque-Bera (JB):                5.071\n",
      "Skew:                          -1.335   Prob(JB):                       0.0792\n",
      "Kurtosis:                       3.993   Cond. No.                         1.00\n",
      "==============================================================================\n",
      "\n",
      "Warnings:\n",
      "[1] Standard Errors assume that the covariance matrix of the errors is correctly specified.\n"
     ]
    }
   ],
   "source": [
    "#first a Simple linear Regression (this is not strictly neccessary, but I wanted to Compare)\n",
    "SimpleLinearModel = sm.OLS(X_order, ExpTheoretic).fit()\n",
    "print(SimpleLinearModel.summary())"
   ]
  },
  {
   "cell_type": "code",
   "execution_count": 61,
   "metadata": {},
   "outputs": [
    {
     "name": "stdout",
     "output_type": "stream",
     "text": [
      "                            OLS Regression Results                            \n",
      "==============================================================================\n",
      "Dep. Variable:               response   R-squared:                       0.972\n",
      "Model:                            OLS   Adj. R-squared:                  0.967\n",
      "Method:                 Least Squares   F-statistic:                     207.3\n",
      "Date:                Sun, 04 Apr 2021   Prob (F-statistic):           4.96e-10\n",
      "Time:                        07:05:26   Log-Likelihood:                0.32645\n",
      "No. Observations:                  15   AIC:                             5.347\n",
      "Df Residuals:                      12   BIC:                             7.471\n",
      "Df Model:                           2                                         \n",
      "Covariance Type:            nonrobust                                         \n",
      "========================================================================================\n",
      "                           coef    std err          t      P>|t|      [0.025      0.975]\n",
      "----------------------------------------------------------------------------------------\n",
      "Intercept                0.2086      0.165      1.261      0.231      -0.152       0.569\n",
      "predictor                0.9932      0.080     12.363      0.000       0.818       1.168\n",
      "np.square(predictor)    -0.0520      0.007     -7.827      0.000      -0.067      -0.038\n",
      "==============================================================================\n",
      "Omnibus:                        0.462   Durbin-Watson:                   0.890\n",
      "Prob(Omnibus):                  0.794   Jarque-Bera (JB):                0.553\n",
      "Skew:                           0.224   Prob(JB):                        0.758\n",
      "Kurtosis:                       2.173   Cond. No.                         128.\n",
      "==============================================================================\n",
      "\n",
      "Warnings:\n",
      "[1] Standard Errors assume that the covariance matrix of the errors is correctly specified.\n"
     ]
    }
   ],
   "source": [
    "## now a Quadratic Regression. \n",
    "results = sm.OLS.from_formula(formula='response ~ predictor + np.square(predictor)', data=dfReg).fit()\n",
    "print(results.summary())"
   ]
  },
  {
   "cell_type": "markdown",
   "metadata": {},
   "source": [
    "## The T-test performed by the statistical package indicates that the effect of the sqaured term is significant with a p-value \n",
    "## of < 0.001\n",
    "## Conclude that the Sample is does not match an exponential distribution."
   ]
  },
  {
   "cell_type": "markdown",
   "metadata": {},
   "source": [
    "# Part B \n",
    "### Hypothesis testing for the mean on data set 2\n",
    "####This dataset is relatively large, so a student's t-test should be acceptable (H0: x < 3.2 ; Ha: x >= 3.2)"
   ]
  },
  {
   "cell_type": "code",
   "execution_count": 62,
   "metadata": {},
   "outputs": [
    {
     "data": {
      "text/html": [
       "<div>\n",
       "<style scoped>\n",
       "    .dataframe tbody tr th:only-of-type {\n",
       "        vertical-align: middle;\n",
       "    }\n",
       "\n",
       "    .dataframe tbody tr th {\n",
       "        vertical-align: top;\n",
       "    }\n",
       "\n",
       "    .dataframe thead th {\n",
       "        text-align: right;\n",
       "    }\n",
       "</style>\n",
       "<table border=\"1\" class=\"dataframe\">\n",
       "  <thead>\n",
       "    <tr style=\"text-align: right;\">\n",
       "      <th></th>\n",
       "      <th>x</th>\n",
       "    </tr>\n",
       "  </thead>\n",
       "  <tbody>\n",
       "    <tr>\n",
       "      <th>count</th>\n",
       "      <td>50.000000</td>\n",
       "    </tr>\n",
       "    <tr>\n",
       "      <th>mean</th>\n",
       "      <td>3.381018</td>\n",
       "    </tr>\n",
       "    <tr>\n",
       "      <th>std</th>\n",
       "      <td>3.502513</td>\n",
       "    </tr>\n",
       "    <tr>\n",
       "      <th>min</th>\n",
       "      <td>0.009818</td>\n",
       "    </tr>\n",
       "    <tr>\n",
       "      <th>25%</th>\n",
       "      <td>0.967100</td>\n",
       "    </tr>\n",
       "    <tr>\n",
       "      <th>50%</th>\n",
       "      <td>2.202139</td>\n",
       "    </tr>\n",
       "    <tr>\n",
       "      <th>75%</th>\n",
       "      <td>5.101106</td>\n",
       "    </tr>\n",
       "    <tr>\n",
       "      <th>max</th>\n",
       "      <td>17.502511</td>\n",
       "    </tr>\n",
       "  </tbody>\n",
       "</table>\n",
       "</div>"
      ],
      "text/plain": [
       "               x\n",
       "count  50.000000\n",
       "mean    3.381018\n",
       "std     3.502513\n",
       "min     0.009818\n",
       "25%     0.967100\n",
       "50%     2.202139\n",
       "75%     5.101106\n",
       "max    17.502511"
      ]
     },
     "execution_count": 62,
     "metadata": {},
     "output_type": "execute_result"
    }
   ],
   "source": [
    "df1.describe()"
   ]
  },
  {
   "cell_type": "code",
   "execution_count": 70,
   "metadata": {},
   "outputs": [
    {
     "data": {
      "text/plain": [
       "x    0.126596\n",
       "y         NaN\n",
       "dtype: float64"
      ]
     },
     "execution_count": 70,
     "metadata": {},
     "output_type": "execute_result"
    }
   ],
   "source": [
    "#scripting a basic t-test\n",
    "upperT = df1.mean() - 3.2\n",
    "LowerT = df1.std() / np.sqrt(df.count())\n",
    "T_Value = upperT / LowerT\n",
    "\n",
    "T_Value"
   ]
  },
  {
   "cell_type": "markdown",
   "metadata": {},
   "source": [
    "#### df = n-1, alpha = 0.05, one-tailed test. rejection threshold = 1.68\n",
    "#### T < 1.68, We fail to reject the null hypothesis. We cannot conclude that the mean concentration level is greater than 3.2 at the 0.05 level"
   ]
  },
  {
   "cell_type": "markdown",
   "metadata": {},
   "source": [
    "# part c - Power Analysis"
   ]
  },
  {
   "cell_type": "code",
   "execution_count": 83,
   "metadata": {},
   "outputs": [
    {
     "data": {
      "text/html": [
       "<div>\n",
       "<style scoped>\n",
       "    .dataframe tbody tr th:only-of-type {\n",
       "        vertical-align: middle;\n",
       "    }\n",
       "\n",
       "    .dataframe tbody tr th {\n",
       "        vertical-align: top;\n",
       "    }\n",
       "\n",
       "    .dataframe thead th {\n",
       "        text-align: right;\n",
       "    }\n",
       "</style>\n",
       "<table border=\"1\" class=\"dataframe\">\n",
       "  <thead>\n",
       "    <tr style=\"text-align: right;\">\n",
       "      <th></th>\n",
       "      <th>x</th>\n",
       "    </tr>\n",
       "  </thead>\n",
       "  <tbody>\n",
       "    <tr>\n",
       "      <th>count</th>\n",
       "      <td>15.000000</td>\n",
       "    </tr>\n",
       "    <tr>\n",
       "      <th>mean</th>\n",
       "      <td>2.710228</td>\n",
       "    </tr>\n",
       "    <tr>\n",
       "      <th>std</th>\n",
       "      <td>1.461153</td>\n",
       "    </tr>\n",
       "    <tr>\n",
       "      <th>min</th>\n",
       "      <td>0.459298</td>\n",
       "    </tr>\n",
       "    <tr>\n",
       "      <th>25%</th>\n",
       "      <td>1.541557</td>\n",
       "    </tr>\n",
       "    <tr>\n",
       "      <th>50%</th>\n",
       "      <td>2.743928</td>\n",
       "    </tr>\n",
       "    <tr>\n",
       "      <th>75%</th>\n",
       "      <td>3.790357</td>\n",
       "    </tr>\n",
       "    <tr>\n",
       "      <th>max</th>\n",
       "      <td>5.012110</td>\n",
       "    </tr>\n",
       "  </tbody>\n",
       "</table>\n",
       "</div>"
      ],
      "text/plain": [
       "               x\n",
       "count  15.000000\n",
       "mean    2.710228\n",
       "std     1.461153\n",
       "min     0.459298\n",
       "25%     1.541557\n",
       "50%     2.743928\n",
       "75%     3.790357\n",
       "max     5.012110"
      ]
     },
     "execution_count": 83,
     "metadata": {},
     "output_type": "execute_result"
    }
   ],
   "source": [
    "df2.describe()"
   ]
  },
  {
   "cell_type": "code",
   "execution_count": 90,
   "metadata": {},
   "outputs": [
    {
     "name": "stdout",
     "output_type": "stream",
     "text": [
      "271.91337524050454\n",
      "44.67997720983872\n",
      "18.358376104265048\n"
     ]
    }
   ],
   "source": [
    "from statsmodels.stats.power import TTestPower\n",
    "powerAnalysis = TTestPower()\n",
    "# computing a sample size for 3 different effect sizes\n",
    "SampleSize_SmolD = powerAnalysis.solve_power(power=0.95, alpha=0.05, effect_size = 0.2, alternative='larger')\n",
    "SampleSize_MedD = powerAnalysis.solve_power(power=0.95, alpha=0.05, effect_size = 0.5, alternative='larger')\n",
    "SampleSize_BigD = powerAnalysis.solve_power(power=0.95, alpha=0.05, effect_size = 0.8, alternative='larger')\n",
    "print(SampleSize_SmolD)\n",
    "print(SampleSize_MedD)\n",
    "print(SampleSize_BigD)"
   ]
  },
  {
   "cell_type": "code",
   "execution_count": null,
   "metadata": {},
   "outputs": [],
   "source": []
  }
 ],
 "metadata": {
  "kernelspec": {
   "display_name": "Python 3",
   "language": "python",
   "name": "python3"
  },
  "language_info": {
   "codemirror_mode": {
    "name": "ipython",
    "version": 3
   },
   "file_extension": ".py",
   "mimetype": "text/x-python",
   "name": "python",
   "nbconvert_exporter": "python",
   "pygments_lexer": "ipython3",
   "version": "3.8.1"
  }
 },
 "nbformat": 4,
 "nbformat_minor": 4
}
