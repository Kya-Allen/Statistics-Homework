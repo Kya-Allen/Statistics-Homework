{
 "cells": [
  {
   "cell_type": "markdown",
   "metadata": {},
   "source": [
    "# Kya Allen - KH06059"
   ]
  },
  {
   "cell_type": "code",
   "execution_count": 62,
   "metadata": {},
   "outputs": [],
   "source": [
    "import pandas as pd\n",
    "import math"
   ]
  },
  {
   "cell_type": "code",
   "execution_count": 106,
   "metadata": {},
   "outputs": [
    {
     "data": {
      "text/html": [
       "<div>\n",
       "<style scoped>\n",
       "    .dataframe tbody tr th:only-of-type {\n",
       "        vertical-align: middle;\n",
       "    }\n",
       "\n",
       "    .dataframe tbody tr th {\n",
       "        vertical-align: top;\n",
       "    }\n",
       "\n",
       "    .dataframe thead th {\n",
       "        text-align: right;\n",
       "    }\n",
       "</style>\n",
       "<table border=\"1\" class=\"dataframe\">\n",
       "  <thead>\n",
       "    <tr style=\"text-align: right;\">\n",
       "      <th></th>\n",
       "      <th>A</th>\n",
       "      <th>B</th>\n",
       "      <th>C</th>\n",
       "      <th>D</th>\n",
       "      <th>E</th>\n",
       "    </tr>\n",
       "  </thead>\n",
       "  <tbody>\n",
       "    <tr>\n",
       "      <th>count</th>\n",
       "      <td>15.000000</td>\n",
       "      <td>15.000000</td>\n",
       "      <td>15.000000</td>\n",
       "      <td>15.000000</td>\n",
       "      <td>15.000000</td>\n",
       "    </tr>\n",
       "    <tr>\n",
       "      <th>mean</th>\n",
       "      <td>1.801179</td>\n",
       "      <td>2.884182</td>\n",
       "      <td>4.435853</td>\n",
       "      <td>4.399258</td>\n",
       "      <td>5.334068</td>\n",
       "    </tr>\n",
       "    <tr>\n",
       "      <th>std</th>\n",
       "      <td>1.641574</td>\n",
       "      <td>2.147900</td>\n",
       "      <td>6.011582</td>\n",
       "      <td>4.544478</td>\n",
       "      <td>6.090725</td>\n",
       "    </tr>\n",
       "    <tr>\n",
       "      <th>min</th>\n",
       "      <td>0.169492</td>\n",
       "      <td>0.080756</td>\n",
       "      <td>0.053384</td>\n",
       "      <td>0.021413</td>\n",
       "      <td>0.211548</td>\n",
       "    </tr>\n",
       "    <tr>\n",
       "      <th>25%</th>\n",
       "      <td>0.726072</td>\n",
       "      <td>1.241924</td>\n",
       "      <td>0.576944</td>\n",
       "      <td>1.652986</td>\n",
       "      <td>1.130329</td>\n",
       "    </tr>\n",
       "    <tr>\n",
       "      <th>50%</th>\n",
       "      <td>1.167329</td>\n",
       "      <td>2.396752</td>\n",
       "      <td>1.137213</td>\n",
       "      <td>2.209060</td>\n",
       "      <td>3.335929</td>\n",
       "    </tr>\n",
       "    <tr>\n",
       "      <th>75%</th>\n",
       "      <td>2.927610</td>\n",
       "      <td>4.271409</td>\n",
       "      <td>5.553287</td>\n",
       "      <td>6.568086</td>\n",
       "      <td>7.212631</td>\n",
       "    </tr>\n",
       "    <tr>\n",
       "      <th>max</th>\n",
       "      <td>4.530944</td>\n",
       "      <td>6.821814</td>\n",
       "      <td>20.604758</td>\n",
       "      <td>16.541439</td>\n",
       "      <td>24.185195</td>\n",
       "    </tr>\n",
       "  </tbody>\n",
       "</table>\n",
       "</div>"
      ],
      "text/plain": [
       "               A          B          C          D          E\n",
       "count  15.000000  15.000000  15.000000  15.000000  15.000000\n",
       "mean    1.801179   2.884182   4.435853   4.399258   5.334068\n",
       "std     1.641574   2.147900   6.011582   4.544478   6.090725\n",
       "min     0.169492   0.080756   0.053384   0.021413   0.211548\n",
       "25%     0.726072   1.241924   0.576944   1.652986   1.130329\n",
       "50%     1.167329   2.396752   1.137213   2.209060   3.335929\n",
       "75%     2.927610   4.271409   5.553287   6.568086   7.212631\n",
       "max     4.530944   6.821814  20.604758  16.541439  24.185195"
      ]
     },
     "execution_count": 106,
     "metadata": {},
     "output_type": "execute_result"
    }
   ],
   "source": [
    "df = pd.read_csv('5SampleData.csv')\n",
    "df.describe()"
   ]
  },
  {
   "cell_type": "code",
   "execution_count": 105,
   "metadata": {},
   "outputs": [],
   "source": [
    "Xbars = []\n",
    "S2s = []\n",
    "N = []\n",
    "#Make a vector of sample means\n",
    "for i in df.mean():\n",
    "    Xbars.append(i)\n",
    "#Make a Vector of Sample Varainces\n",
    "for i in df.std():\n",
    "    S2s.append(i**2.0)\n",
    "#Make a Vector of Sample Sizes\n",
    "for i in df.count():\n",
    "    N.append(i)"
   ]
  },
  {
   "cell_type": "code",
   "execution_count": 58,
   "metadata": {},
   "outputs": [],
   "source": [
    "#Get a pooled mean\n",
    "def PooledMean(X, V, N):\n",
    "    numerator = 0\n",
    "    Denom = 0\n",
    "    count = len(X)\n",
    "    NumerList = []\n",
    "    DenomList = []\n",
    "    for i in range(count):\n",
    "        NumerList.append((N[i] * X[i]) / V[i])\n",
    "        DenomList.append(N[i] / V[i])\n",
    "    for i in NumerList:\n",
    "        numerator = numerator + i\n",
    "    for i in DenomList:\n",
    "        Denom = Denom + i\n",
    "        \n",
    "    theta = numerator / Denom    \n",
    "    return theta\n",
    "#Get a Pooled Variance\n",
    "def PooledVariance(V, N):\n",
    "    Denom = 0\n",
    "    count= len(V)\n",
    "    DenomList = []\n",
    "    for i in range(count):\n",
    "        DenomList.append(N[i] / V[i])\n",
    "    for i in DenomList:\n",
    "        Denom = Denom + i\n",
    "    VarPool = 1 / Denom\n",
    "    return VarPool"
   ]
  },
  {
   "cell_type": "code",
   "execution_count": 104,
   "metadata": {},
   "outputs": [],
   "source": [
    "PM = PooledMean(Xbars, S2s, N)\n",
    "PV = PooledVariance(S2s, N)"
   ]
  },
  {
   "cell_type": "code",
   "execution_count": 69,
   "metadata": {},
   "outputs": [],
   "source": [
    "#Hypethesis Test\n",
    "def Ztest(NullMean, ObservedMean, Variance):\n",
    "    Zscore = (ObservedMean - NullMean) / math.sqrt(Variance)\n",
    "    return Zscore"
   ]
  },
  {
   "cell_type": "code",
   "execution_count": 70,
   "metadata": {},
   "outputs": [
    {
     "data": {
      "text/plain": [
       "-4.615083434442804"
      ]
     },
     "execution_count": 70,
     "metadata": {},
     "output_type": "execute_result"
    }
   ],
   "source": [
    "Ztest(4, PM, PV)"
   ]
  },
  {
   "cell_type": "markdown",
   "metadata": {},
   "source": [
    "##The Zscore, -4.62 is Less than the 95% rejection threshold 1.65. We fail to reject the null hypothesis"
   ]
  },
  {
   "cell_type": "code",
   "execution_count": 72,
   "metadata": {},
   "outputs": [],
   "source": [
    "##Part B:\n",
    "#Get proportion bellow 3"
   ]
  },
  {
   "cell_type": "code",
   "execution_count": 82,
   "metadata": {},
   "outputs": [
    {
     "data": {
      "text/plain": [
       "[0.7333333333333333, 0.6, 0.6, 0.6, 0.4666666666666667]"
      ]
     },
     "execution_count": 82,
     "metadata": {},
     "output_type": "execute_result"
    }
   ],
   "source": [
    "proportions = []\n",
    "for i in df.columns:\n",
    "    Successes = 0\n",
    "    for j in df[i]:\n",
    "        if j <= 3:\n",
    "            Successes = Successes + 1\n",
    "    proportions.append(Successes / 15)\n",
    "proportions"
   ]
  },
  {
   "cell_type": "code",
   "execution_count": 100,
   "metadata": {},
   "outputs": [
    {
     "data": {
      "text/plain": [
       "[0.01303703703703704, 0.016, 0.016, 0.016, 0.016592592592592593]"
      ]
     },
     "execution_count": 100,
     "metadata": {},
     "output_type": "execute_result"
    }
   ],
   "source": [
    "PropVariances = []\n",
    "for i in proportions:\n",
    "    PropVariances.append((i * (1 - i)) / 15)\n",
    "PropVariances"
   ]
  },
  {
   "cell_type": "code",
   "execution_count": 107,
   "metadata": {},
   "outputs": [
    {
     "data": {
      "text/plain": [
       "0.6067542213883678"
      ]
     },
     "execution_count": 107,
     "metadata": {},
     "output_type": "execute_result"
    }
   ],
   "source": [
    "##use the pooled mean function, while passing proportions instead of means\n",
    "PP = PooledMean(proportions, PropVariances, N)\n",
    "PP"
   ]
  },
  {
   "cell_type": "code",
   "execution_count": 102,
   "metadata": {},
   "outputs": [
    {
     "data": {
      "text/plain": [
       "0.00020546174692516158"
      ]
     },
     "execution_count": 102,
     "metadata": {},
     "output_type": "execute_result"
    }
   ],
   "source": [
    "#use the pooled variance function, while passing Proportion variances\n",
    "PPV = PooledVariance(PropVariances, N)\n",
    "PPV"
   ]
  },
  {
   "cell_type": "code",
   "execution_count": 108,
   "metadata": {},
   "outputs": [
    {
     "data": {
      "text/plain": [
       "21.400556150343782"
      ]
     },
     "execution_count": 108,
     "metadata": {},
     "output_type": "execute_result"
    }
   ],
   "source": [
    "Ztest(0.30, PP, PPV)"
   ]
  },
  {
   "cell_type": "code",
   "execution_count": null,
   "metadata": {},
   "outputs": [],
   "source": [
    "##The Z score, 21.40 is greater than the the critical level 1.28 for a 90% threshold. We reject the Null Hypothesis."
   ]
  }
 ],
 "metadata": {
  "kernelspec": {
   "display_name": "Python 3",
   "language": "python",
   "name": "python3"
  },
  "language_info": {
   "codemirror_mode": {
    "name": "ipython",
    "version": 3
   },
   "file_extension": ".py",
   "mimetype": "text/x-python",
   "name": "python",
   "nbconvert_exporter": "python",
   "pygments_lexer": "ipython3",
   "version": "3.8.1"
  }
 },
 "nbformat": 4,
 "nbformat_minor": 4
}
