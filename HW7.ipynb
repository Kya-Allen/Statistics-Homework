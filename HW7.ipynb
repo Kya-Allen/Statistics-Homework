{
 "cells": [
  {
   "cell_type": "markdown",
   "metadata": {},
   "source": [
    "# Kya Allen - Stat 414 - HW 7 Raw Analysis"
   ]
  },
  {
   "cell_type": "code",
   "execution_count": 11,
   "metadata": {},
   "outputs": [],
   "source": [
    "import pandas as pd\n",
    "import numpy as np\n",
    "import matplotlib.pyplot as plt\n",
    "import seaborn as sns\n",
    "import statsmodels.api as sm\n",
    "import scipy as SciPy"
   ]
  },
  {
   "cell_type": "code",
   "execution_count": 3,
   "metadata": {},
   "outputs": [
    {
     "data": {
      "text/html": [
       "<div>\n",
       "<style scoped>\n",
       "    .dataframe tbody tr th:only-of-type {\n",
       "        vertical-align: middle;\n",
       "    }\n",
       "\n",
       "    .dataframe tbody tr th {\n",
       "        vertical-align: top;\n",
       "    }\n",
       "\n",
       "    .dataframe thead th {\n",
       "        text-align: right;\n",
       "    }\n",
       "</style>\n",
       "<table border=\"1\" class=\"dataframe\">\n",
       "  <thead>\n",
       "    <tr style=\"text-align: right;\">\n",
       "      <th></th>\n",
       "      <th>x</th>\n",
       "    </tr>\n",
       "  </thead>\n",
       "  <tbody>\n",
       "    <tr>\n",
       "      <th>count</th>\n",
       "      <td>20.000000</td>\n",
       "    </tr>\n",
       "    <tr>\n",
       "      <th>mean</th>\n",
       "      <td>80.211928</td>\n",
       "    </tr>\n",
       "    <tr>\n",
       "      <th>std</th>\n",
       "      <td>140.490974</td>\n",
       "    </tr>\n",
       "    <tr>\n",
       "      <th>min</th>\n",
       "      <td>0.570046</td>\n",
       "    </tr>\n",
       "    <tr>\n",
       "      <th>25%</th>\n",
       "      <td>3.052067</td>\n",
       "    </tr>\n",
       "    <tr>\n",
       "      <th>50%</th>\n",
       "      <td>8.895037</td>\n",
       "    </tr>\n",
       "    <tr>\n",
       "      <th>75%</th>\n",
       "      <td>75.262763</td>\n",
       "    </tr>\n",
       "    <tr>\n",
       "      <th>max</th>\n",
       "      <td>512.647885</td>\n",
       "    </tr>\n",
       "  </tbody>\n",
       "</table>\n",
       "</div>"
      ],
      "text/plain": [
       "                x\n",
       "count   20.000000\n",
       "mean    80.211928\n",
       "std    140.490974\n",
       "min      0.570046\n",
       "25%      3.052067\n",
       "50%      8.895037\n",
       "75%     75.262763\n",
       "max    512.647885"
      ]
     },
     "execution_count": 3,
     "metadata": {},
     "output_type": "execute_result"
    }
   ],
   "source": [
    "TheData = pd.read_csv('HW7data.csv')\n",
    "TheData.describe()"
   ]
  },
  {
   "cell_type": "markdown",
   "metadata": {},
   "source": [
    "### If the data is lognormally distributed, then we would expect ln(x) to be normally distributed.\n",
    "#### we can transform the data, and then do a test for normality using Q-Q plot and regression. "
   ]
  },
  {
   "cell_type": "code",
   "execution_count": 90,
   "metadata": {},
   "outputs": [
    {
     "data": {
      "text/html": [
       "<div>\n",
       "<style scoped>\n",
       "    .dataframe tbody tr th:only-of-type {\n",
       "        vertical-align: middle;\n",
       "    }\n",
       "\n",
       "    .dataframe tbody tr th {\n",
       "        vertical-align: top;\n",
       "    }\n",
       "\n",
       "    .dataframe thead th {\n",
       "        text-align: right;\n",
       "    }\n",
       "</style>\n",
       "<table border=\"1\" class=\"dataframe\">\n",
       "  <thead>\n",
       "    <tr style=\"text-align: right;\">\n",
       "      <th></th>\n",
       "      <th>x</th>\n",
       "    </tr>\n",
       "  </thead>\n",
       "  <tbody>\n",
       "    <tr>\n",
       "      <th>count</th>\n",
       "      <td>20.000000</td>\n",
       "    </tr>\n",
       "    <tr>\n",
       "      <th>mean</th>\n",
       "      <td>2.569273</td>\n",
       "    </tr>\n",
       "    <tr>\n",
       "      <th>std</th>\n",
       "      <td>2.155861</td>\n",
       "    </tr>\n",
       "    <tr>\n",
       "      <th>min</th>\n",
       "      <td>-0.562039</td>\n",
       "    </tr>\n",
       "    <tr>\n",
       "      <th>25%</th>\n",
       "      <td>1.114438</td>\n",
       "    </tr>\n",
       "    <tr>\n",
       "      <th>50%</th>\n",
       "      <td>2.184751</td>\n",
       "    </tr>\n",
       "    <tr>\n",
       "      <th>75%</th>\n",
       "      <td>4.296495</td>\n",
       "    </tr>\n",
       "    <tr>\n",
       "      <th>max</th>\n",
       "      <td>6.239589</td>\n",
       "    </tr>\n",
       "  </tbody>\n",
       "</table>\n",
       "</div>"
      ],
      "text/plain": [
       "               x\n",
       "count  20.000000\n",
       "mean    2.569273\n",
       "std     2.155861\n",
       "min    -0.562039\n",
       "25%     1.114438\n",
       "50%     2.184751\n",
       "75%     4.296495\n",
       "max     6.239589"
      ]
     },
     "execution_count": 90,
     "metadata": {},
     "output_type": "execute_result"
    }
   ],
   "source": [
    "TransData = pd.DataFrame(np.log(TheData['x']))\n",
    "TransData.describe()"
   ]
  },
  {
   "cell_type": "markdown",
   "metadata": {},
   "source": [
    "### first, for ocmparison we'll perform a standard Shaprio-Wilk test for normality. "
   ]
  },
  {
   "cell_type": "code",
   "execution_count": 13,
   "metadata": {},
   "outputs": [
    {
     "name": "stdout",
     "output_type": "stream",
     "text": [
      "(0.9385238885879517, 0.22482778131961823)\n"
     ]
    }
   ],
   "source": [
    "SciPy.stats.shapiro(TransData)\n",
    "# (Test statistic, P-value)"
   ]
  },
  {
   "cell_type": "markdown",
   "metadata": {},
   "source": [
    "#### with P > 0.05, this wouldn't be evidence of non-normality of the transormed data (H0: X ~ N), and so we also would not reject that the raw data isn't lognormal.\n",
    "### But now we'll try a method taught in class, regressing the data on E(x ~ N)"
   ]
  },
  {
   "cell_type": "code",
   "execution_count": 84,
   "metadata": {},
   "outputs": [],
   "source": [
    "ExpNorm = [-1.86747, -1.4076, -1.13094, -0.92098, -0.74538, -0.59029, -0.44833, -0.39413, -0.18695, -0.06199, \n",
    "           0.06199, 0.18695, 0.39413, 0.44833, 0.59029, 0.74538, 0.92098, 1.13094, 1.4076, 1.86747]\n",
    "fire = np.sort(TransData['x'])\n",
    "fire\n",
    "df = pd.DataFrame(columns=['response', 'P'])\n",
    "df['response'] = fire\n",
    "df['P'] = ExpNorm"
   ]
  },
  {
   "cell_type": "code",
   "execution_count": 87,
   "metadata": {},
   "outputs": [
    {
     "name": "stdout",
     "output_type": "stream",
     "text": [
      "                                 OLS Regression Results                                \n",
      "=======================================================================================\n",
      "Dep. Variable:               response   R-squared (uncentered):                   0.383\n",
      "Model:                            OLS   Adj. R-squared (uncentered):              0.350\n",
      "Method:                 Least Squares   F-statistic:                              11.77\n",
      "Date:                Sun, 04 Apr 2021   Prob (F-statistic):                     0.00280\n",
      "Time:                        10:40:54   Log-Likelihood:                         -47.551\n",
      "No. Observations:                  20   AIC:                                      97.10\n",
      "Df Residuals:                      19   BIC:                                      98.10\n",
      "Df Model:                           1                                                  \n",
      "Covariance Type:            nonrobust                                                  \n",
      "==============================================================================\n",
      "                 coef    std err          t      P>|t|      [0.025      0.975]\n",
      "------------------------------------------------------------------------------\n",
      "P              2.1767      0.634      3.431      0.003       0.849       3.505\n",
      "==============================================================================\n",
      "Omnibus:                        1.310   Durbin-Watson:                   0.024\n",
      "Prob(Omnibus):                  0.520   Jarque-Bera (JB):                1.072\n",
      "Skew:                           0.363   Prob(JB):                        0.585\n",
      "Kurtosis:                       2.129   Cond. No.                         1.00\n",
      "==============================================================================\n",
      "\n",
      "Warnings:\n",
      "[1] Standard Errors assume that the covariance matrix of the errors is correctly specified.\n"
     ]
    }
   ],
   "source": [
    "\n",
    "SimpleLinearModel = sm.OLS(df['response'], df['P']).fit()\n",
    "print(SimpleLinearModel.summary())"
   ]
  },
  {
   "cell_type": "markdown",
   "metadata": {},
   "source": [
    "#### Now we'll attempt to detect any nonlinearity in the data by testing for a significant polynomial coefficient"
   ]
  },
  {
   "cell_type": "code",
   "execution_count": 88,
   "metadata": {},
   "outputs": [
    {
     "name": "stdout",
     "output_type": "stream",
     "text": [
      "                            OLS Regression Results                            \n",
      "==============================================================================\n",
      "Dep. Variable:               response   R-squared:                       0.961\n",
      "Model:                            OLS   Adj. R-squared:                  0.956\n",
      "Method:                 Least Squares   F-statistic:                     207.9\n",
      "Date:                Sun, 04 Apr 2021   Prob (F-statistic):           1.12e-12\n",
      "Time:                        10:41:12   Log-Likelihood:                -10.857\n",
      "No. Observations:                  20   AIC:                             27.71\n",
      "Df Residuals:                      17   BIC:                             30.70\n",
      "Df Model:                           2                                         \n",
      "Covariance Type:            nonrobust                                         \n",
      "================================================================================\n",
      "                   coef    std err          t      P>|t|      [0.025      0.975]\n",
      "--------------------------------------------------------------------------------\n",
      "Intercept        2.4289      0.132     18.351      0.000       2.150       2.708\n",
      "P                2.1767      0.107     20.327      0.000       1.951       2.403\n",
      "np.square(P)     0.1578      0.096      1.640      0.119      -0.045       0.361\n",
      "==============================================================================\n",
      "Omnibus:                        1.047   Durbin-Watson:                   0.942\n",
      "Prob(Omnibus):                  0.592   Jarque-Bera (JB):                0.778\n",
      "Skew:                           0.067   Prob(JB):                        0.678\n",
      "Kurtosis:                       2.043   Cond. No.                         2.33\n",
      "==============================================================================\n",
      "\n",
      "Warnings:\n",
      "[1] Standard Errors assume that the covariance matrix of the errors is correctly specified.\n"
     ]
    }
   ],
   "source": [
    "PolynomialModel = sm.OLS.from_formula(formula='response ~ P + np.square(P)', data=df).fit()\n",
    "print(PolynomialModel.summary())"
   ]
  },
  {
   "cell_type": "markdown",
   "metadata": {},
   "source": [
    "### Seeing P > 0.05, we fail to reject the Null hypothesis, that the data has a linear relationship, and thus we find that the transformed data is normally distributed, and thus the original data must be lognormally distributed."
   ]
  },
  {
   "cell_type": "markdown",
   "metadata": {},
   "source": [
    "## Part B - Summary Statistics"
   ]
  },
  {
   "cell_type": "code",
   "execution_count": 92,
   "metadata": {},
   "outputs": [
    {
     "data": {
      "text/plain": [
       "x    38.367231\n",
       "dtype: float64"
      ]
     },
     "execution_count": 92,
     "metadata": {},
     "output_type": "execute_result"
    }
   ],
   "source": [
    "longN = np.exp(TransData.mean() + (TransData.std() / 2))\n",
    "longN"
   ]
  },
  {
   "cell_type": "code",
   "execution_count": 93,
   "metadata": {},
   "outputs": [
    {
     "data": {
      "text/plain": [
       "x    11239.536698\n",
       "dtype: float64"
      ]
     },
     "execution_count": 93,
     "metadata": {},
     "output_type": "execute_result"
    }
   ],
   "source": [
    "WeirdS1 = np.exp((2 * TransData.mean()) + TransData.std()) \n",
    "WeirdS2 = np.exp(TransData.std()) - 1\n",
    "WeirdS_final = WeirdS1 * WeirdS2\n",
    "WeirdS_final"
   ]
  },
  {
   "cell_type": "code",
   "execution_count": null,
   "metadata": {},
   "outputs": [],
   "source": []
  }
 ],
 "metadata": {
  "kernelspec": {
   "display_name": "Python 3",
   "language": "python",
   "name": "python3"
  },
  "language_info": {
   "codemirror_mode": {
    "name": "ipython",
    "version": 3
   },
   "file_extension": ".py",
   "mimetype": "text/x-python",
   "name": "python",
   "nbconvert_exporter": "python",
   "pygments_lexer": "ipython3",
   "version": "3.8.1"
  }
 },
 "nbformat": 4,
 "nbformat_minor": 4
}
