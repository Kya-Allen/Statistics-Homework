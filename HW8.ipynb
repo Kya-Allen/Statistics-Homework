{
 "cells": [
  {
   "cell_type": "markdown",
   "metadata": {},
   "source": [
    "# Kya Allen - STAT 414 - HW 8"
   ]
  },
  {
   "cell_type": "code",
   "execution_count": 46,
   "metadata": {},
   "outputs": [],
   "source": [
    "import numpy as np"
   ]
  },
  {
   "cell_type": "code",
   "execution_count": 179,
   "metadata": {},
   "outputs": [],
   "source": [
    "def solver(ThetaEst):\n",
    "    ThetaDiff = 100\n",
    "    Iterations = 0\n",
    "    while ThetaDiff > 0.01:\n",
    "        Av = 11.70971546\n",
    "        Z = 9 / 11\n",
    "        C = 3\n",
    "        Term = (np.exp(-C/ThetaEst)) / (1 - np.exp(-C/ThetaEst))\n",
    "        ThetaOld = ThetaEst\n",
    "        ThetaEst = Av - (Term * 3 * Z)\n",
    "        ThetaDiff = np.absolute(ThetaEst - ThetaOld)\n",
    "        Iterations = Iterations + 1 \n",
    "    print('Iterations: ' + str(Iterations))\n",
    "    print(ThetaEst)"
   ]
  },
  {
   "cell_type": "code",
   "execution_count": 180,
   "metadata": {},
   "outputs": [
    {
     "name": "stdout",
     "output_type": "stream",
     "text": [
      "Iterations: 25\n",
      "7.063486155153142\n"
     ]
    }
   ],
   "source": [
    "solver(8)"
   ]
  },
  {
   "cell_type": "code",
   "execution_count": 204,
   "metadata": {},
   "outputs": [],
   "source": [
    "# Assuming the number of left censored data points is equal to the number of right censored data points\n",
    "def solver_3(ThetaEst):\n",
    "    ThetaDiff = 100\n",
    "    Iterations = 0\n",
    "    while ThetaDiff > 0.01:\n",
    "        Av = 76.689418\n",
    "        t = 4\n",
    "        Z = 24\n",
    "        Term = (np.exp(-3/ThetaEst)) / (1 - np.exp(-3/ThetaEst))\n",
    "        ThetaOld = ThetaEst\n",
    "        ThetaEst = (Av - (Term * Z))\n",
    "        ThetaEst = ThetaEst / t\n",
    "        ThetaDiff = np.absolute(ThetaEst - ThetaOld)\n",
    "        Iterations = Iterations + 1 \n",
    "    print('Iterations: ' + str(Iterations))\n",
    "    print('Maximum-Likelihood Estimate: ' + str(ThetaEst))"
   ]
  },
  {
   "cell_type": "code",
   "execution_count": 209,
   "metadata": {},
   "outputs": [
    {
     "name": "stdout",
     "output_type": "stream",
     "text": [
      "Iterations: 2\n",
      "Maximum-Likelihood Estimate: -inf\n"
     ]
    },
    {
     "name": "stderr",
     "output_type": "stream",
     "text": [
      "<ipython-input-204-fbe93d454a88>:9: RuntimeWarning: divide by zero encountered in double_scalars\n",
      "  Term = (np.exp(-3/ThetaEst)) / (1 - np.exp(-3/ThetaEst))\n",
      "<ipython-input-204-fbe93d454a88>:13: RuntimeWarning: invalid value encountered in double_scalars\n",
      "  ThetaDiff = np.absolute(ThetaEst - ThetaOld)\n"
     ]
    }
   ],
   "source": [
    "solver_3(100000000000000000)"
   ]
  },
  {
   "cell_type": "code",
   "execution_count": null,
   "metadata": {},
   "outputs": [],
   "source": [
    "## x ≈ 7.32269393128774 (From Wolfram Alpha)"
   ]
  }
 ],
 "metadata": {
  "kernelspec": {
   "display_name": "Python 3",
   "language": "python",
   "name": "python3"
  },
  "language_info": {
   "codemirror_mode": {
    "name": "ipython",
    "version": 3
   },
   "file_extension": ".py",
   "mimetype": "text/x-python",
   "name": "python",
   "nbconvert_exporter": "python",
   "pygments_lexer": "ipython3",
   "version": "3.8.8"
  }
 },
 "nbformat": 4,
 "nbformat_minor": 4
}
